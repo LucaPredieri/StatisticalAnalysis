{
 "cells": [
  {
   "cell_type": "markdown",
   "metadata": {},
   "source": [
    "Statistical Analysis Introduction\n",
    "===============\n",
    "\n",
    "In this Jupyter Notebook I will deepen my personal strategy used to compute a statistical analyis of the behaviour of two different codes for the first assignment of Research Track 1.The first code was developed by me, while the other one was developed my our professor Carmine Recchiuto. \n",
    "\n",
    "When it first came to me the assignment, I thought that it would've been nice to study one issue of the codes, the fact that they can go counter-clockwise in the arena. After many runs of both the codes I noticed that it wasn't actually a smart feature to be studied, because in about 20 runs they were never going counter-clockwise. That wasn't what I expected, because while talking with the other students I found out that it was pretty popular that the robot was going backwards. I think this comes from the fact that I'm running the code in a VM while the others on the Docker image given by the professor.\n",
    "__Anyway, I then decided to compare two different features__:\n",
    "1. The way the robot changes its direction.\n",
    "2. The time needed to compute the task.\n",
    "## How I extract the data?\n",
    "\n",
    "__To obtain the data for the first analysis parameter__ I decided to focus on when the robot is close to a wall. I modified both the codes where the lines manage the change of direction close to a wall (therefore close to the golden tokens), simply by adding a +1 each time the running program goes in that part of the code.\n",
    "\n",
    "__To obtain the data for the second analysis parameter__  I started to take the time as soon as the running program enters the robot movement part, which is usually the `main()` function. The code is set to take the end time when the robot finishes to grab the 8th silver token (because I added one). So as you can think it is not a real lap, but as far as the final token is not randomly placed, it makes the time a good parameter to be analyzed.\n",
    "## How I placed the tokens?\n",
    "In both the folders of the two programs, following the path `.../sr/robot` there's a file called `sunny_side_up_arena.py`. This file contains the creation of the map, and even the position and the number of tokens (7) in the arena. I added one more to see if it was still working and I changed the position of all others. The position is set to make the token \"slide\" in the direction of the tunnel, in order to not set silver tokens too close to the walls."
   ]
  },
  {
   "cell_type": "markdown",
   "metadata": {},
   "source": [
    "# Statistical Analysis Code\n",
    "Now I'll develop and perform the stats code. All the code is available too in the `stats.py` script.\n",
    "## Importing Libraries."
   ]
  },
  {
   "cell_type": "code",
   "execution_count": 42,
   "metadata": {
    "ExecuteTime": {
     "end_time": "2022-05-12T13:22:23.520594Z",
     "start_time": "2022-05-12T13:22:23.518513Z"
    }
   },
   "outputs": [],
   "source": [
    "from scipy import stats as st\n",
    "import matplotlib.pyplot as plt\n",
    "import numpy as np\n",
    "from matplotlib.pyplot import figure"
   ]
  },
  {
   "cell_type": "markdown",
   "metadata": {},
   "source": [
    "## Importing data from the files."
   ]
  },
  {
   "cell_type": "code",
   "execution_count": 43,
   "metadata": {
    "ExecuteTime": {
     "end_time": "2022-05-12T13:22:23.568956Z",
     "start_time": "2022-05-12T13:22:23.564567Z"
    }
   },
   "outputs": [],
   "source": [
    "with open(\"collision.txt\") as f:\n",
    "    timestamp_s = f.read().splitlines() \n",
    "timestamp = list(map(float, timestamp_s))\n",
    "#print(timestamp)\n",
    "#print(len(timestamp))\n",
    "\n",
    "with open(\"trajectory.txt\") as f:\n",
    "    collision_s = f.read().splitlines() \n",
    "collision = list(map(int, collision_s))\n",
    "#print(collision)\n",
    "#print(len(collision))\n",
    "\n",
    "with open(\"collisionp.txt\") as f:\n",
    "    timestampp_s = f.read().splitlines() \n",
    "timestampp = list(map(float, timestampp_s))\n",
    "#print(timestampp)\n",
    "#rint(len(timestampp))\n",
    "\n",
    "with open(\"trajectoryp.txt\") as f:\n",
    "    collisionp_s = f.read().splitlines() \n",
    "collisionp = list(map(int, collisionp_s))\n",
    "#print(collisionp)\n",
    "#print(len(collisionp))"
   ]
  },
  {
   "cell_type": "markdown",
   "metadata": {},
   "source": [
    "## Computing average and standard deviation."
   ]
  },
  {
   "cell_type": "code",
   "execution_count": 44,
   "metadata": {
    "ExecuteTime": {
     "end_time": "2022-05-12T13:22:23.613623Z",
     "start_time": "2022-05-12T13:22:23.610698Z"
    }
   },
   "outputs": [],
   "source": [
    "# Calculate the average\n",
    "collision_mean = np.mean(collision)\n",
    "timestamp_mean = np.mean(timestamp)\n",
    "collisionp_mean = np.mean(collisionp)\n",
    "timestampp_mean = np.mean(timestampp)\n",
    "\n",
    "# Calculate the standard deviation\n",
    "collision_std = np.std(collision)\n",
    "timestamp_std = np.std(timestamp)\n",
    "collisionp_std = np.std(collisionp)\n",
    "timestampp_std = np.std(timestampp)"
   ]
  },
  {
   "cell_type": "markdown",
   "metadata": {},
   "source": [
    "## Printing medium with standard deviation."
   ]
  },
  {
   "cell_type": "code",
   "execution_count": 55,
   "metadata": {
    "ExecuteTime": {
     "end_time": "2022-05-12T13:27:55.825276Z",
     "start_time": "2022-05-12T13:27:55.698287Z"
    }
   },
   "outputs": [
    {
     "data": {
      "image/png": "[encoded data removed]",
      "text/plain": [
       "<Figure size 432x288 with 1 Axes>"
      ]
     },
     "metadata": {
      "needs_background": "light"
     },
     "output_type": "display_data"
    },
    {
     "data": {
      "image/png": "[encoded data removed]",
      "text/plain": [
       "<Figure size 432x288 with 1 Axes>"
      ]
     },
     "metadata": {
      "needs_background": "light"
     },
     "output_type": "display_data"
    }
   ],
   "source": [
    "# Define labels, positions, bar heights and error bar heights\n",
    "labels = ['Mine', 'Professor']\n",
    "x_pos1 = np.arange(len(labels))\n",
    "CTEs1 = [collision_mean, collisionp_mean]\n",
    "error1 = [collision_std, collisionp_std]\n",
    "\n",
    "fig1, ax1 = plt.subplots()\n",
    "ax1.bar(x_pos1, CTEs1,\n",
    "       yerr=error1,\n",
    "       align='center',\n",
    "       alpha=0.5,\n",
    "       ecolor='black',\n",
    "       capsize=10)\n",
    "ax1.set_ylabel('Number of times the robot changed its direction')\n",
    "ax1.set_xticks(x_pos1)\n",
    "ax1.set_xticklabels(labels)\n",
    "ax1.set_title('Adjusting the trajectory difference.')\n",
    "ax1.yaxis.grid(True)\n",
    "\n",
    "labels2 = ['Mine', 'Professor']\n",
    "x_pos2 = np.arange(len(labels))\n",
    "CTEs2 = [timestamp_mean, timestampp_mean]\n",
    "error2 = [timestamp_std, timestampp_std]\n",
    "\n",
    "fig2, ax2 = plt.subplots()\n",
    "ax2.bar(x_pos2, CTEs2,\n",
    "       yerr=error2,\n",
    "       align='center',\n",
    "       alpha=0.5,\n",
    "       ecolor='black',\n",
    "       capsize=10)\n",
    "ax2.set_ylabel('Seconds')\n",
    "ax2.set_xticks(x_pos2)\n",
    "ax2.set_xticklabels(labels2)\n",
    "ax2.set_title('Time to do one lap.')\n",
    "ax2.yaxis.grid(True)\n",
    "\n",
    "#fig1.tight_layout()\n",
    "#fig2.tight_layout()\n",
    "plt.show()"
   ]
  },
  {
   "cell_type": "markdown",
   "metadata": {
    "ExecuteTime": {
     "end_time": "2022-05-12T13:34:35.651884Z",
     "start_time": "2022-05-12T13:34:35.648755Z"
    }
   },
   "source": [
    "## Plotting the collisions values."
   ]
  },
  {
   "cell_type": "code",
   "execution_count": 70,
   "metadata": {
    "ExecuteTime": {
     "end_time": "2022-05-12T13:47:30.472789Z",
     "start_time": "2022-05-12T13:47:30.385645Z"
    }
   },
   "outputs": [
    {
     "name": "stdout",
     "output_type": "stream",
     "text": [
      "[1, 2, 3, 4, 5, 6, 7, 8, 9, 10, 11, 12, 13, 14, 15, 16, 17, 18, 19, 20, 21, 22, 23, 24, 25, 26, 27, 28, 29, 30]\n"
     ]
    },
    {
     "data": {
      "image/png": "[encoded data removed]",
      "text/plain": [
       "<Figure size 432x288 with 1 Axes>"
      ]
     },
     "metadata": {
      "needs_background": "light"
     },
     "output_type": "display_data"
    }
   ],
   "source": [
    "x=[]\n",
    "for i in range(1,31):\n",
    "    x.append(i)\n",
    "print(x)\n",
    "\n",
    "# plotting points as a scatter plot\n",
    "plt.scatter(x, collision, label= \"Mine\", color= \"green\",\n",
    "            marker= \"d\", s=30)\n",
    "\n",
    "plt.scatter(x, collisionp, label= \"Professor\", color= \"red\",\n",
    "            marker= \"d\", s=30)\n",
    " \n",
    "# x-axis label\n",
    "plt.xlabel('Number of the test')\n",
    "# frequency label\n",
    "plt.ylabel('Number of collisions')\n",
    "# plot title\n",
    "plt.title('Collisions difference')\n",
    "# showing legend\n",
    "plt.legend()\n",
    " \n",
    "# function to show the plot\n",
    "plt.show()"
   ]
  },
  {
   "cell_type": "markdown",
   "metadata": {},
   "source": [
    "## Plotting the time values."
   ]
  },
  {
   "cell_type": "code",
   "execution_count": 71,
   "metadata": {
    "ExecuteTime": {
     "end_time": "2022-05-12T13:53:01.685104Z",
     "start_time": "2022-05-12T13:53:01.603885Z"
    }
   },
   "outputs": [
    {
     "data": {
      "image/png": "[encoded data removed]",
      "text/plain": [
       "<Figure size 432x288 with 1 Axes>"
      ]
     },
     "metadata": {
      "needs_background": "light"
     },
     "output_type": "display_data"
    }
   ],
   "source": [
    "# plotting points as a scatter plot\n",
    "plt.scatter(x, timestamp, label= \"Mine\", color= \"green\",\n",
    "            marker= \"*\", s=30)\n",
    "\n",
    "plt.scatter(x, timestampp, label= \"Professor\", color= \"red\",\n",
    "            marker= \"*\", s=30)\n",
    " \n",
    "# x-axis label\n",
    "plt.xlabel('Number of the test')\n",
    "# frequency label\n",
    "plt.ylabel('Time to do one lap')\n",
    "# plot title\n",
    "plt.title('Time lap difference')\n",
    "# showing legend\n",
    "plt.legend()\n",
    " \n",
    "# function to show the plot\n",
    "plt.show()"
   ]
  },
  {
   "cell_type": "markdown",
   "metadata": {},
   "source": [
    "## T-test between the two groups."
   ]
  },
  {
   "cell_type": "code",
   "execution_count": null,
   "metadata": {},
   "outputs": [],
   "source": []
  }
 ],
 "metadata": {
  "kernelspec": {
   "display_name": "Python 3",
   "language": "python",
   "name": "python3"
  },
  "language_info": {
   "codemirror_mode": {
    "name": "ipython",
    "version": 3
   },
   "file_extension": ".py",
   "mimetype": "text/x-python",
   "name": "python",
   "nbconvert_exporter": "python",
   "pygments_lexer": "ipython3",
   "version": "3.8.10"
  },
  "latex_envs": {
   "LaTeX_envs_menu_present": true,
   "autoclose": false,
   "autocomplete": true,
   "bibliofile": "biblio.bib",
   "cite_by": "apalike",
   "current_citInitial": 1,
   "eqLabelWithNumbers": true,
   "eqNumInitial": 1,
   "hotkeys": {
    "equation": "Ctrl-E",
    "itemize": "Ctrl-I"
   },
   "labels_anchors": false,
   "latex_user_defs": false,
   "report_style_numbering": false,
   "user_envs_cfg": false
  },
  "nbTranslate": {
   "displayLangs": [
    "*"
   ],
   "hotkey": "alt-t",
   "langInMainMenu": true,
   "sourceLang": "en",
   "targetLang": "fr",
   "useGoogleTranslate": true
  },
  "toc": {
   "base_numbering": 1,
   "nav_menu": {},
   "number_sections": true,
   "sideBar": true,
   "skip_h1_title": false,
   "title_cell": "Table of Contents",
   "title_sidebar": "Contents",
   "toc_cell": false,
   "toc_position": {},
   "toc_section_display": true,
   "toc_window_display": true
  },
  "varInspector": {
   "cols": {
    "lenName": 16,
    "lenType": 16,
    "lenVar": 40
   },
   "kernels_config": {
    "python": {
     "delete_cmd_postfix": "",
     "delete_cmd_prefix": "del ",
     "library": "var_list.py",
     "varRefreshCmd": "print(var_dic_list())"
    },
    "r": {
     "delete_cmd_postfix": ") ",
     "delete_cmd_prefix": "rm(",
     "library": "var_list.r",
     "varRefreshCmd": "cat(var_dic_list()) "
    }
   },
   "types_to_exclude": [
    "module",
    "function",
    "builtin_function_or_method",
    "instance",
    "_Feature"
   ],
   "window_display": false
  }
 },
 "nbformat": 4,
 "nbformat_minor": 4
}
